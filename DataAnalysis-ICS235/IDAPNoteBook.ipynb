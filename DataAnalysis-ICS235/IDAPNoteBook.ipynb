{
 "cells": [
  {
   "cell_type": "code",
   "execution_count": null,
   "id": "aef315ec",
   "metadata": {},
   "outputs": [],
   "source": [
    "x =int(input(\"Enter a Number:\"))\n",
    "if (x%2==0):\n",
    "    print(\"even number\")\n",
    "else:\n",
    "    print(\"odd number\")"
   ]
  },
  {
   "cell_type": "code",
   "execution_count": null,
   "id": "a98ec3c1",
   "metadata": {},
   "outputs": [],
   "source": []
  },
  {
   "cell_type": "code",
   "execution_count": null,
   "id": "942593b1",
   "metadata": {},
   "outputs": [],
   "source": [
    "sum=0\n",
    "while True:\n",
    "    x=int(input(\"enter a number:\"))\n",
    "    if (x%3==0):\n",
    "        continue\n",
    "    sum=sum+x\n",
    "    if (sum>100):\n",
    "        break\n",
    "print(sum)"
   ]
  },
  {
   "cell_type": "code",
   "execution_count": null,
   "id": "3748f215",
   "metadata": {},
   "outputs": [],
   "source": [
    "n=10\n",
    "l=[1,2,3,4,5,6,7,8,9,10]\n",
    "for i in range(0,n,2):\n",
    "    print(l[i])\n",
    "    "
   ]
  },
  {
   "cell_type": "code",
   "execution_count": null,
   "id": "d278cbcc",
   "metadata": {},
   "outputs": [],
   "source": []
  },
  {
   "cell_type": "code",
   "execution_count": null,
   "id": "d7eb3d2b",
   "metadata": {},
   "outputs": [],
   "source": [
    "l=[]\n",
    "n=int(input(\"HOW MANY ELEMENTS WOULD YOU LIKE TO ADD IN LIST? - \"))\n",
    "for i in range(n):\n",
    "    x=int(input())\n",
    "    l.append(x)\n",
    "print(l)"
   ]
  },
  {
   "cell_type": "code",
   "execution_count": null,
   "id": "53f8501c",
   "metadata": {},
   "outputs": [],
   "source": [
    "#smallest\n",
    "#none datatype\n",
    "l=[5,10,2,15,99,3,67,4]\n",
    "smallest=l[0]\n",
    "for i in range (1,len(l)):\n",
    "    if l[i]<smallest:\n",
    "        smallest=l[i]\n",
    "print(\"smallest-\",smallest)"
   ]
  },
  {
   "cell_type": "code",
   "execution_count": null,
   "id": "78e90218",
   "metadata": {},
   "outputs": [],
   "source": [
    "smallest=None\n",
    "for i in [10,2,3,4,5]:\n",
    "    if smallest is None:\n",
    "        smallest=i\n",
    "    elif i<smallest:\n",
    "        smallest=i\n",
    "        \n",
    "print(smallest)"
   ]
  },
  {
   "cell_type": "code",
   "execution_count": null,
   "id": "578c3bfa",
   "metadata": {},
   "outputs": [],
   "source": []
  },
  {
   "cell_type": "code",
   "execution_count": null,
   "id": "bea26056",
   "metadata": {},
   "outputs": [],
   "source": [
    "import array as arr\n",
    "l=[1,2,3,4,5]\n",
    "b= arr.array('i',l)\n",
    "\n",
    "for i in range(len(b)):\n",
    "    print(b[i])"
   ]
  },
  {
   "cell_type": "code",
   "execution_count": null,
   "id": "fb36e32b",
   "metadata": {},
   "outputs": [],
   "source": [
    "import array as arr\n",
    "l=[1,2,3,4,5,6,7,8,9,10]\n",
    "b= arr.array('i',l)\n",
    "x=6\n",
    "print(\"Array before deletion\")\n",
    "for i in range(len(b)):\n",
    "    print(b[i])\n",
    "    \n",
    "for i in range(len(b)):\n",
    "    if b[i]==x:\n",
    "        b.remove(x)\n",
    "        break\n",
    "\n",
    "print(\"Array after deletion\")\n",
    "for i in range(len(b)):\n",
    "    print(b[i])"
   ]
  },
  {
   "cell_type": "code",
   "execution_count": null,
   "id": "92f50027",
   "metadata": {},
   "outputs": [],
   "source": [
    "import array as arr\n",
    "\n",
    "b= arr.array('i',[])\n",
    "\n",
    "while True:\n",
    "    x=int(input(\"enter element\"))\n",
    "    b.append(x)\n",
    "    line=input(\"would you like to continue? \")\n",
    "    ch=line[0]\n",
    "    if ch=='y':\n",
    "        continue\n",
    "    else:\n",
    "        break\n",
    "\n",
    "\n",
    "while True:\n",
    "    y=int(input(\"ENTER ELEMENT YOU WOULD LIKE TO DELETE\"))\n",
    "    for i in range(len(b)):\n",
    "        \n",
    "        \n",
    "        if b[i]==y:\n",
    "            b.remove(y)\n",
    "            break\n",
    "    line=input(\"would you like to continue? \")\n",
    "    ch=line[0]\n",
    "    if ch=='y':\n",
    "        continue\n",
    "    else:\n",
    "        break\n",
    "\n",
    "print(\"Array after deletion\")\n",
    "for j in range(len(b)):\n",
    "    print(b[j])"
   ]
  },
  {
   "cell_type": "code",
   "execution_count": null,
   "id": "5f1819cd",
   "metadata": {},
   "outputs": [],
   "source": [
    "import numpy as np\n",
    "a=np.array([1,2,3])\n",
    "type(a)\n"
   ]
  },
  {
   "cell_type": "code",
   "execution_count": null,
   "id": "8f53ce47",
   "metadata": {},
   "outputs": [],
   "source": [
    "import numpy as np\n",
    "a=np.array([1,2,3])\n",
    "b=np.array([[1,2,3,4],[5,6,7,8]])\n",
    "c=np.array([[[1,2],[3,4]],[[5,6],[7,8]]])\n",
    "print(a[2])\n",
    "print(b[1][3])\n",
    "print(c[1][1][1])"
   ]
  },
  {
   "cell_type": "code",
   "execution_count": null,
   "id": "6319f7db",
   "metadata": {},
   "outputs": [],
   "source": [
    "print(c.ndim)\n",
    "print(b.ndim)"
   ]
  },
  {
   "cell_type": "code",
   "execution_count": null,
   "id": "107c50ff",
   "metadata": {},
   "outputs": [],
   "source": [
    "import numpy as np\n",
    "a=np.array([1,2,3,4,5,6,7,8,9,10])\n",
    "print(a[2:5])\n",
    "print(a[2:7:2])\n",
    "print(a[-1:])\n",
    "print(a[-2:])\n",
    "print(a[:])\n",
    "print(a[-3:-6:-1])\n",
    "print(a[::-1])"
   ]
  },
  {
   "cell_type": "code",
   "execution_count": null,
   "id": "65584ada",
   "metadata": {},
   "outputs": [],
   "source": [
    "def fun():\n",
    "    print('hi')\n",
    "fun()"
   ]
  },
  {
   "cell_type": "code",
   "execution_count": null,
   "id": "69da2f48",
   "metadata": {},
   "outputs": [],
   "source": [
    "def add(x,y):\n",
    "    z=x+y\n",
    "    print(z)\n",
    "x=int(input(\"enter number 1-\"))\n",
    "y=int(input(\"enter number 2-\"))\n",
    "add(x,y)"
   ]
  },
  {
   "cell_type": "code",
   "execution_count": null,
   "id": "b64bea92",
   "metadata": {},
   "outputs": [],
   "source": [
    "def add(x,y):\n",
    "    return x+y\n",
    "print(add(2,3))"
   ]
  },
  {
   "cell_type": "code",
   "execution_count": null,
   "id": "340a90e4",
   "metadata": {},
   "outputs": [],
   "source": [
    "class first_class:\n",
    "    def _init_(self):\n",
    "        attr=1\n",
    "        \n",
    "        \n",
    "    def fun(self):\n",
    "        print(self.attr)\n",
    "obj=first_class()\n",
    "\n",
    "obj.fun()"
   ]
  },
  {
   "cell_type": "code",
   "execution_count": null,
   "id": "3123bc4d",
   "metadata": {},
   "outputs": [],
   "source": [
    "class Complex:\n",
    "    def __init__(self):\n",
    "        self.real=0\n",
    "        self.img=0\n",
    "\n",
    "    def __init__(self,x=0,y=0):\n",
    "        self.real=x\n",
    "        self.img=y\n",
    "        print(self.real,'+i',self.img)\n",
    "    def add(self,c):\n",
    "        c3=Complex(0,0)\n",
    "        c3.real=self.real+c.real\n",
    "        c3.img=self.img+c.img\n",
    "        print(c3.real,'+i',c3.img)\n",
    "c1=Complex(1,2)\n",
    "c2=Complex(4,5)\n",
    "c1.add(c2)"
   ]
  },
  {
   "cell_type": "code",
   "execution_count": null,
   "id": "77f1b7f2",
   "metadata": {},
   "outputs": [],
   "source": [
    "from typing import final\n",
    "\n",
    "\n",
    "def div(a,b):\n",
    "    try:\n",
    "        c=a/b\n",
    "        print(\"Answer: \",c)\n",
    "        print(\"Division is successful\")\n",
    "        \n",
    "    except Exception as x:\n",
    "        print(\"Exception: \",type(x))\n",
    "        print(\":( uh oh! Division is not successful\")\n",
    "    finally:\n",
    "        print(\"Formula was c=a/b\")\n",
    "        \n",
    "x=input(\"Enter the 1st number: \")\n",
    "y=input(\"Enter the 2nd number: \")\n",
    "\n",
    "div(int(x),int(y))"
   ]
  },
  {
   "cell_type": "code",
   "execution_count": null,
   "id": "4f2925b3",
   "metadata": {},
   "outputs": [],
   "source": [
    "import pandas as pd\n",
    "import numpy as np\n",
    "\n",
    "data=pd.array([2,4,6,8,10])\n",
    "s=pd.Series(data)\n",
    "print(s)"
   ]
  },
  {
   "cell_type": "markdown",
   "id": "091b9ad3",
   "metadata": {},
   "source": [
    "Note\n",
    "\n",
    "series is a one dimensional labeled array.\n",
    "it contains similar datatype.  this is differentiable from dictionary."
   ]
  },
  {
   "cell_type": "code",
   "execution_count": null,
   "id": "c27ded7c",
   "metadata": {},
   "outputs": [],
   "source": [
    "import pandas as pd\n",
    "import numpy as np\n",
    "\n",
    "data=pd.array([2,4,6,8,10])\n",
    "s=pd.Series(data, index = ['a','b','c','d','e'])\n",
    "print(s)"
   ]
  },
  {
   "cell_type": "code",
   "execution_count": null,
   "id": "48ef3e07",
   "metadata": {},
   "outputs": [],
   "source": [
    "data={'icas':1,'mit':2,'kmc':3}\n",
    "s=pd.Series(data,index=['icas','mit','a','b','c','d'])\n",
    "print(s)"
   ]
  },
  {
   "cell_type": "code",
   "execution_count": null,
   "id": "f74c4f33",
   "metadata": {},
   "outputs": [],
   "source": [
    "data=pd.array([2,4,6,8,10])\n",
    "s=pd.Series(data, index = ['a','b','c','d','e'])\n",
    "print(s[-2:])"
   ]
  },
  {
   "cell_type": "code",
   "execution_count": null,
   "id": "223cbf50",
   "metadata": {},
   "outputs": [],
   "source": [
    "# Write the function for fibonacci series\n",
    "\n",
    "def Fibonacci(n):\n",
    "    if n == 0:\n",
    "        return 0\n",
    "\n",
    "    elif n == 1 or n == 2:\n",
    "        return 1\n",
    " \n",
    "    else:\n",
    "        return Fibonacci(n-1) + Fibonacci(n-2)\n",
    "n =int(input(\"how many terms do you want?\"))\n",
    "\n",
    "for i in range(n):\n",
    "   print( Fibonacci(i))"
   ]
  },
  {
   "cell_type": "markdown",
   "id": "4ac26a0f",
   "metadata": {},
   "source": [
    "a data frame is 2d data structure like a table with rows and column."
   ]
  },
  {
   "cell_type": "code",
   "execution_count": null,
   "id": "383c1287",
   "metadata": {},
   "outputs": [],
   "source": [
    "# creation of dataframe\n",
    "import pandas as pd\n",
    "import numpy as np\n",
    "import matplotlib.pyplot as plt\n",
    "data ={\"calories\":[100,200,50],'duration':[5,2,3]}\n",
    "df=pd.DataFrame(data)\n",
    "\n",
    "print(df)\n",
    "print(df.loc[0])"
   ]
  },
  {
   "cell_type": "code",
   "execution_count": null,
   "id": "806c3de5",
   "metadata": {},
   "outputs": [],
   "source": [
    "import pandas as pd\n",
    "import numpy as np\n",
    "import matplotlib.pyplot as plt\n",
    "df=pd.read_csv(\"/Users/Downloads/abc.csv\")\n",
    "\n",
    "print(df) #prints first 5 and last 5 \n",
    "print(df.to_string())# prints the whole table\n",
    "print(df.head())\n"
   ]
  },
  {
   "cell_type": "code",
   "execution_count": null,
   "id": "0a02fcf4",
   "metadata": {},
   "outputs": [],
   "source": [
    "#to know no. of rows in the data file\n",
    "print(pd.options.display.max_rows)\n",
    "#use max-rows in the code\n",
    "pd.options.display.max_rows=100\n",
    "df=pd.read_csv(\"/Users/Downloads/abc.csv\")\n",
    "print(df)"
   ]
  },
  {
   "cell_type": "code",
   "execution_count": null,
   "id": "85f536d0",
   "metadata": {},
   "outputs": [],
   "source": [
    "import panda as pd\n",
    "import numpy as np\n",
    "import matplotlib.pyplot as plt\n",
    "station=['CHANDIGARH','BENGALURU','CHENNAI','JAIPUR','LUCKNOW','MUMBAI','NASHIK','NEW DELHI']\n",
    "\n",
    "df = pd.DataFrame()"
   ]
  },
  {
   "cell_type": "code",
   "execution_count": null,
   "id": "c15e2757",
   "metadata": {},
   "outputs": [],
   "source": [
    "def isprime(n):\n",
    "    for i in range(2,n):\n",
    "        if (n%i==0):\n",
    "            count=1\n",
    "        else:\n",
    "            count=0\n",
    "    return count\n",
    "num=int (input(\"number--\"))\n",
    "x=isprime(num)\n",
    "if(x==1):\n",
    "    print(\"not prime\")\n",
    "elif(x==0):\n",
    "    print(\"prime\")"
   ]
  },
  {
   "cell_type": "code",
   "execution_count": null,
   "id": "d2337157",
   "metadata": {},
   "outputs": [],
   "source": [
    "file=open('abc.txt')\n",
    "l=[]\n",
    "b=[]\n",
    "c=[]\n",
    "for i in file:\n",
    "    l.append(i)\n",
    "    b=i.rstrip()\n",
    "    c=i.split()\n",
    "print(l)\n",
    "print(b)\n",
    "print(c)"
   ]
  },
  {
   "cell_type": "code",
   "execution_count": null,
   "id": "11eebedb",
   "metadata": {},
   "outputs": [],
   "source": [
    "l=[1,2,3,4,5,6,7,8,9]\n",
    "l.pop(2)\n",
    "print(l)"
   ]
  },
  {
   "cell_type": "code",
   "execution_count": null,
   "id": "c4e2714e",
   "metadata": {},
   "outputs": [],
   "source": [
    "file=open(\"abc.txt\")\n",
    "for a in file:\n",
    "    print(a)"
   ]
  },
  {
   "cell_type": "code",
   "execution_count": 16,
   "id": "c6adf25b",
   "metadata": {},
   "outputs": [
    {
     "name": "stdout",
     "output_type": "stream",
     "text": [
      "{'a': 10, 'b': 20, 'c': 30}\n",
      "a\n",
      "b\n",
      "c\n"
     ]
    }
   ],
   "source": [
    "dic1={'a':10,'b':20,'c':30}\n",
    "print(dic1)\n",
    "for key,value in dic1.items():\n",
    "    print(key)"
   ]
  },
  {
   "cell_type": "code",
   "execution_count": 26,
   "id": "f49c0481",
   "metadata": {},
   "outputs": [
    {
     "name": "stdout",
     "output_type": "stream",
     "text": [
      "a\n",
      "b\n",
      "c\n"
     ]
    }
   ],
   "source": [
    "for a in dic1:\n",
    "    print(a)"
   ]
  },
  {
   "cell_type": "code",
   "execution_count": 29,
   "id": "86a1b7fe",
   "metadata": {},
   "outputs": [
    {
     "name": "stdout",
     "output_type": "stream",
     "text": [
      "['a', 'b', 'c']\n",
      "[10, 20, 30]\n"
     ]
    }
   ],
   "source": [
    "dic1={'a':10,'b':20,'c':30}\n",
    "keys1=[]\n",
    "values2=[]\n",
    "for key,value in dic1.items():\n",
    "    keys.append(key)\n",
    "    values.append(value)\n",
    "print(keys)\n",
    "print(values)"
   ]
  },
  {
   "cell_type": "code",
   "execution_count": 30,
   "id": "967bcdb8",
   "metadata": {},
   "outputs": [
    {
     "name": "stdout",
     "output_type": "stream",
     "text": [
      "3\n"
     ]
    }
   ],
   "source": [
    "print(len(dic1))"
   ]
  },
  {
   "cell_type": "code",
   "execution_count": 41,
   "id": "addddd6f",
   "metadata": {},
   "outputs": [
    {
     "name": "stdout",
     "output_type": "stream",
     "text": [
      "True\n"
     ]
    }
   ],
   "source": [
    "dic2={'b':20,'a':10 ,'c':30}\n",
    "print(dic1==dic2)"
   ]
  },
  {
   "cell_type": "code",
   "execution_count": 16,
   "id": "d85d0213",
   "metadata": {},
   "outputs": [
    {
     "name": "stdout",
     "output_type": "stream",
     "text": [
      "same dictionary\n"
     ]
    }
   ],
   "source": [
    "#mycode\n",
    "    \n",
    "dic1={'b':20,'a':10,'c':30}\n",
    "k1=[]\n",
    "v1=[]\n",
    "for key,value in sorted(dic1.items()):\n",
    "    k1.append(key)\n",
    "    v1.append(value)\n",
    "dic2={'c':30,'a':10,'b':20}\n",
    "k2=[]\n",
    "v2=[]\n",
    "for key,value in sorted(dic2.items()):\n",
    "    k2.append(key)\n",
    "    v2.append(value)\n",
    "if (k1==k2):\n",
    "    if(v1!=v2):\n",
    "        print('Same keys different values')\n",
    "    elif(v1==v2):\n",
    "        print('same dictionary')\n",
    "elif(k1!=k2):\n",
    "    print('keys are different')"
   ]
  },
  {
   "cell_type": "code",
   "execution_count": 4,
   "id": "cc4f20b8",
   "metadata": {},
   "outputs": [
    {
     "name": "stdout",
     "output_type": "stream",
     "text": [
      "a a\n",
      "a b\n",
      "Keys are different \n",
      "b a\n",
      "Keys are different \n",
      "b b\n",
      "Values are found 20\n"
     ]
    }
   ],
   "source": [
    "def cmp(d1, d2):\n",
    "    for k1 in d1:\n",
    "        for k2 in d2:\n",
    "            print(k1,k2)\n",
    "            if k1!=k2:\n",
    "                print(\"Keys are different \")\n",
    "                \n",
    "            \n",
    "            if k1==k2:\n",
    "                if d1[k1]==d2[k2]:\n",
    "                    print(\"Values are found\", d1[k1])\n",
    "                    \n",
    "d1={'a':10, 'b':20}\n",
    "d2={'a':40, 'b':20}\n",
    "\n",
    "cmp(d1,d2)"
   ]
  },
  {
   "cell_type": "code",
   "execution_count": 5,
   "id": "2e061754",
   "metadata": {},
   "outputs": [
    {
     "name": "stdout",
     "output_type": "stream",
     "text": [
      "a b\n",
      "b a\n",
      "c c\n"
     ]
    }
   ],
   "source": [
    "dic1 = {'a':10 , 'b':20 , 'c':30}\n",
    "dic2 = {'b':40 , 'a':50 , 'c':30}\n",
    "\n",
    "for k1,k2 in zip(dic1,dic2):\n",
    "    print(k1,k2)"
   ]
  },
  {
   "cell_type": "code",
   "execution_count": 6,
   "id": "e1792798",
   "metadata": {},
   "outputs": [
    {
     "name": "stdout",
     "output_type": "stream",
     "text": [
      "((('a', 10), ('b', 40)), (('b', 20), ('a', 50)), (('c', 30), ('c', 30)))\n"
     ]
    }
   ],
   "source": [
    "t = zip(dic1.items(),dic2.items())\n",
    "print(tuple(t))"
   ]
  },
  {
   "cell_type": "code",
   "execution_count": 11,
   "id": "ae674d54",
   "metadata": {},
   "outputs": [
    {
     "name": "stdout",
     "output_type": "stream",
     "text": [
      "((('a', 10), ('a', 50)), (('b', 20), ('b', 40)), (('c', 30), ('c', 30)))\n"
     ]
    }
   ],
   "source": [
    "t = zip(sorted(dic1.items()),sorted(dic2.items()))\n",
    "print(tuple(t))"
   ]
  },
  {
   "cell_type": "code",
   "execution_count": 12,
   "id": "07d1d3db",
   "metadata": {},
   "outputs": [
    {
     "data": {
      "text/plain": [
       "[('a', 10), ('b', 20), ('c', 30)]"
      ]
     },
     "execution_count": 12,
     "metadata": {},
     "output_type": "execute_result"
    }
   ],
   "source": [
    "sorted(dic1.items())"
   ]
  },
  {
   "cell_type": "code",
   "execution_count": 14,
   "id": "c93fc3bf",
   "metadata": {},
   "outputs": [
    {
     "data": {
      "text/plain": [
       "[('a', 50), ('b', 40), ('c', 30)]"
      ]
     },
     "execution_count": 14,
     "metadata": {},
     "output_type": "execute_result"
    }
   ],
   "source": [
    "sorted(dic2.items())"
   ]
  },
  {
   "cell_type": "code",
   "execution_count": 20,
   "id": "627780fc",
   "metadata": {},
   "outputs": [
    {
     "name": "stdout",
     "output_type": "stream",
     "text": [
      "True\n"
     ]
    }
   ],
   "source": [
    "dic1 = {'a':10 , 'b':20 , 'c':30}\n",
    "dic2 = {'b':20 , 'a':10 , 'c':30}\n",
    "print(sorted(dic1.items())==sorted(dic2.items()))"
   ]
  },
  {
   "cell_type": "markdown",
   "id": "e5924c0c",
   "metadata": {},
   "source": [
    "***zip will convert data into one data structure***\n",
    "\n"
   ]
  },
  {
   "cell_type": "code",
   "execution_count": 23,
   "id": "95c67aea",
   "metadata": {},
   "outputs": [
    {
     "data": {
      "text/plain": [
       "<_io.TextIOWrapper name='kavan.txt' mode='w' encoding='UTF-8'>"
      ]
     },
     "execution_count": 23,
     "metadata": {},
     "output_type": "execute_result"
    }
   ],
   "source": [
    "open(\"abc.txt\",\"w\")"
   ]
  },
  {
   "cell_type": "markdown",
   "id": "15f9bfe1",
   "metadata": {},
   "source": [
    " \"w\" creates a file if it doesnt exist "
   ]
  },
  {
   "cell_type": "code",
   "execution_count": 29,
   "id": "e21d4905",
   "metadata": {},
   "outputs": [
    {
     "name": "stdout",
     "output_type": "stream",
     "text": [
      "3\n"
     ]
    }
   ],
   "source": [
    "f1= open(\"abc.txt\")\n",
    "count =0\n",
    "for i in  f1 :\n",
    "    for j in i.split():\n",
    "        if j == 'and' or j == 'And':\n",
    "            count=count +1\n",
    "print(count)"
   ]
  },
  {
   "cell_type": "code",
   "execution_count": 31,
   "id": "1e878ea9",
   "metadata": {},
   "outputs": [
    {
     "name": "stdout",
     "output_type": "stream",
     "text": [
      "['A', 'n', 'd', ' ', 'a', 'n', 'd', ' ', 'a', 'n', 'd', '\\n']\n"
     ]
    }
   ],
   "source": [
    "file = open(\"abc.txt\")\n",
    "for a in file:\n",
    "    print(list(a))"
   ]
  },
  {
   "cell_type": "code",
   "execution_count": 35,
   "id": "a2ae5d2c",
   "metadata": {},
   "outputs": [],
   "source": [
    "lst=[]\n",
    "count = 0 \n",
    "file = open(\"abc.txt\")"
   ]
  },
  {
   "cell_type": "code",
   "execution_count": null,
   "id": "67c3b9ef",
   "metadata": {},
   "outputs": [],
   "source": [
    "import re\n",
    "print(\"\\n Matching and Extracting Data \\n\")\n",
    "x = 'My 2 favourite numbers are 19 and 42'\n",
    "y = re.findall('[0-9]+',x)\n",
    "print(y)"
   ]
  },
  {
   "cell_type": "code",
   "execution_count": null,
   "id": "bd8263ab",
   "metadata": {},
   "outputs": [],
   "source": [
    "#Open the file specified by the user and raise an exception if the mode of file is other than read otherwise display the entire file and count the number of words in it\n",
    "\n",
    "file= open(input(\"Enter the file name: \"),\"r\")\n",
    "if file.mode == \"r\":\n",
    "    print(file.read())\n",
    "    print(\"Number of words in the file: \",len(file.read().split()))\n",
    "else:\n",
    "    raise Exception(\"File is not in read mode\")"
   ]
  },
  {
   "cell_type": "code",
   "execution_count": 5,
   "id": "50893241",
   "metadata": {},
   "outputs": [
    {
     "name": "stderr",
     "output_type": "stream",
     "text": [
      "C:\\Users\\Anmol\\AppData\\Local\\Temp\\ipykernel_10332\\1323882592.py:3: FutureWarning: The default dtype for empty Series will be 'object' instead of 'float64' in a future version. Specify a dtype explicitly to silence this warning.\n",
      "  series = pd.Series()\n"
     ]
    },
    {
     "name": "stdout",
     "output_type": "stream",
     "text": [
      "Enter the number of elements in the series: 2\n",
      "Enter the elements of the series: k\n"
     ]
    },
    {
     "name": "stderr",
     "output_type": "stream",
     "text": [
      "C:\\Users\\Anmol\\AppData\\Local\\Temp\\ipykernel_10332\\1323882592.py:8: FutureWarning: The series.append method is deprecated and will be removed from pandas in a future version. Use pandas.concat instead.\n",
      "  series = series.append(pd.Series(ele))\n"
     ]
    },
    {
     "name": "stdout",
     "output_type": "stream",
     "text": [
      "Enter the elements of the series: a\n",
      "0    k\n",
      "0    a\n",
      "dtype: object\n"
     ]
    },
    {
     "name": "stderr",
     "output_type": "stream",
     "text": [
      "C:\\Users\\Anmol\\AppData\\Local\\Temp\\ipykernel_10332\\1323882592.py:8: FutureWarning: The series.append method is deprecated and will be removed from pandas in a future version. Use pandas.concat instead.\n",
      "  series = series.append(pd.Series(ele))\n"
     ]
    },
    {
     "data": {
      "text/plain": [
       "0    k\n",
       "0    a\n",
       "dtype: object"
      ]
     },
     "execution_count": 5,
     "metadata": {},
     "output_type": "execute_result"
    }
   ],
   "source": [
    "\n",
    "import pandas as pd\n",
    "\n",
    "series = pd.Series()\n",
    "n = int(input(\"Enter the number of elements in the series: \"))\n",
    "\n",
    "for i in range(0, n):\n",
    "    ele = input(\"Enter the elements of the series: \")\n",
    "    series = series.append(pd.Series(ele))\n",
    "    \n",
    "print(series)\n",
    "\n",
    "# series.get('a')\n",
    "# series.set(0, \"Hello\")\n",
    "series.get(0)"
   ]
  },
  {
   "cell_type": "code",
   "execution_count": 10,
   "id": "f9a791c3",
   "metadata": {},
   "outputs": [
    {
     "data": {
      "text/html": [
       "<div>\n",
       "<style scoped>\n",
       "    .dataframe tbody tr th:only-of-type {\n",
       "        vertical-align: middle;\n",
       "    }\n",
       "\n",
       "    .dataframe tbody tr th {\n",
       "        vertical-align: top;\n",
       "    }\n",
       "\n",
       "    .dataframe thead th {\n",
       "        text-align: right;\n",
       "    }\n",
       "</style>\n",
       "<table border=\"1\" class=\"dataframe\">\n",
       "  <thead>\n",
       "    <tr style=\"text-align: right;\">\n",
       "      <th></th>\n",
       "      <th>one</th>\n",
       "      <th>two</th>\n",
       "    </tr>\n",
       "  </thead>\n",
       "  <tbody>\n",
       "    <tr>\n",
       "      <th>a</th>\n",
       "      <td>1.0</td>\n",
       "      <td>4.0</td>\n",
       "    </tr>\n",
       "    <tr>\n",
       "      <th>b</th>\n",
       "      <td>2.0</td>\n",
       "      <td>3.0</td>\n",
       "    </tr>\n",
       "    <tr>\n",
       "      <th>c</th>\n",
       "      <td>3.0</td>\n",
       "      <td>2.0</td>\n",
       "    </tr>\n",
       "    <tr>\n",
       "      <th>d</th>\n",
       "      <td>4.0</td>\n",
       "      <td>1.0</td>\n",
       "    </tr>\n",
       "  </tbody>\n",
       "</table>\n",
       "</div>"
      ],
      "text/plain": [
       "   one  two\n",
       "a  1.0  4.0\n",
       "b  2.0  3.0\n",
       "c  3.0  2.0\n",
       "d  4.0  1.0"
      ]
     },
     "execution_count": 10,
     "metadata": {},
     "output_type": "execute_result"
    }
   ],
   "source": [
    "data = {'one':[1.0,2.0,3.0,4.0],'two':[4.0,3.0,2.0,1.0]}\n",
    "import pandas as pd\n",
    "df = pd.DataFrame(data,index=['a','b','c','d'])\n",
    "df"
   ]
  },
  {
   "cell_type": "code",
   "execution_count": 11,
   "id": "8555efc0",
   "metadata": {},
   "outputs": [
    {
     "data": {
      "text/html": [
       "<div>\n",
       "<style scoped>\n",
       "    .dataframe tbody tr th:only-of-type {\n",
       "        vertical-align: middle;\n",
       "    }\n",
       "\n",
       "    .dataframe tbody tr th {\n",
       "        vertical-align: top;\n",
       "    }\n",
       "\n",
       "    .dataframe thead th {\n",
       "        text-align: right;\n",
       "    }\n",
       "</style>\n",
       "<table border=\"1\" class=\"dataframe\">\n",
       "  <thead>\n",
       "    <tr style=\"text-align: right;\">\n",
       "      <th></th>\n",
       "      <th>one</th>\n",
       "      <th>two</th>\n",
       "      <th>mean</th>\n",
       "    </tr>\n",
       "  </thead>\n",
       "  <tbody>\n",
       "    <tr>\n",
       "      <th>a</th>\n",
       "      <td>1.0</td>\n",
       "      <td>4.0</td>\n",
       "      <td>2.5</td>\n",
       "    </tr>\n",
       "    <tr>\n",
       "      <th>b</th>\n",
       "      <td>2.0</td>\n",
       "      <td>3.0</td>\n",
       "      <td>2.5</td>\n",
       "    </tr>\n",
       "    <tr>\n",
       "      <th>c</th>\n",
       "      <td>3.0</td>\n",
       "      <td>2.0</td>\n",
       "      <td>2.5</td>\n",
       "    </tr>\n",
       "    <tr>\n",
       "      <th>d</th>\n",
       "      <td>4.0</td>\n",
       "      <td>1.0</td>\n",
       "      <td>2.5</td>\n",
       "    </tr>\n",
       "  </tbody>\n",
       "</table>\n",
       "</div>"
      ],
      "text/plain": [
       "   one  two  mean\n",
       "a  1.0  4.0   2.5\n",
       "b  2.0  3.0   2.5\n",
       "c  3.0  2.0   2.5\n",
       "d  4.0  1.0   2.5"
      ]
     },
     "execution_count": 11,
     "metadata": {},
     "output_type": "execute_result"
    }
   ],
   "source": [
    "df[\"mean\"]=df.mean(axis = 1)\n",
    "df"
   ]
  },
  {
   "cell_type": "code",
   "execution_count": 15,
   "id": "fa3eb531",
   "metadata": {},
   "outputs": [
    {
     "name": "stdout",
     "output_type": "stream",
     "text": [
      "['456']\n"
     ]
    }
   ],
   "source": [
    "import re\n",
    "file = open(\"alphanum.txt\", \"r\")\n",
    "\n",
    "text = file.read()\n",
    "\n",
    "s=re.findall('[0-9]+', text)\n",
    "print(s)"
   ]
  },
  {
   "cell_type": "code",
   "execution_count": 1,
   "id": "471920ad",
   "metadata": {},
   "outputs": [
    {
     "name": "stdout",
     "output_type": "stream",
     "text": [
      "enter num -1\n",
      "would you like to continue--y\n",
      "enter num -2\n",
      "would you like to continue--n\n",
      "\n",
      "0       1\n",
      "1    1000\n",
      "dtype: Int64\n",
      "\n",
      "1\n"
     ]
    }
   ],
   "source": [
    "import pandas as pd\n",
    "import numpy as np\n",
    "l=[]\n",
    "\n",
    "while(True):\n",
    "    \n",
    "    x=int(input('enter num -'))\n",
    "    l.append(x)\n",
    "    ans=input(\"would you like to continue--\")\n",
    "    if(ans=='y'):\n",
    "        continue\n",
    "    else:\n",
    "        break\n",
    "data=pd.array(l)\n",
    "s=pd.Series(data)\n",
    "print()\n",
    "#set value\n",
    "s[1]=1000\n",
    "\n",
    "print(s)\n",
    "print()\n",
    "print(s.get(0))\n",
    "#returns the value at 0th index"
   ]
  },
  {
   "cell_type": "code",
   "execution_count": 2,
   "id": "ead23f1a",
   "metadata": {},
   "outputs": [
    {
     "data": {
      "text/html": [
       "<div>\n",
       "<style scoped>\n",
       "    .dataframe tbody tr th:only-of-type {\n",
       "        vertical-align: middle;\n",
       "    }\n",
       "\n",
       "    .dataframe tbody tr th {\n",
       "        vertical-align: top;\n",
       "    }\n",
       "\n",
       "    .dataframe thead th {\n",
       "        text-align: right;\n",
       "    }\n",
       "</style>\n",
       "<table border=\"1\" class=\"dataframe\">\n",
       "  <thead>\n",
       "    <tr style=\"text-align: right;\">\n",
       "      <th></th>\n",
       "      <th>one</th>\n",
       "      <th>two</th>\n",
       "      <th>mean</th>\n",
       "    </tr>\n",
       "  </thead>\n",
       "  <tbody>\n",
       "    <tr>\n",
       "      <th>a</th>\n",
       "      <td>1.0</td>\n",
       "      <td>4.0</td>\n",
       "      <td>2.5</td>\n",
       "    </tr>\n",
       "    <tr>\n",
       "      <th>b</th>\n",
       "      <td>2.0</td>\n",
       "      <td>3.0</td>\n",
       "      <td>2.5</td>\n",
       "    </tr>\n",
       "    <tr>\n",
       "      <th>c</th>\n",
       "      <td>3.0</td>\n",
       "      <td>2.0</td>\n",
       "      <td>2.5</td>\n",
       "    </tr>\n",
       "    <tr>\n",
       "      <th>d</th>\n",
       "      <td>4.0</td>\n",
       "      <td>1.0</td>\n",
       "      <td>2.5</td>\n",
       "    </tr>\n",
       "  </tbody>\n",
       "</table>\n",
       "</div>"
      ],
      "text/plain": [
       "   one  two  mean\n",
       "a  1.0  4.0   2.5\n",
       "b  2.0  3.0   2.5\n",
       "c  3.0  2.0   2.5\n",
       "d  4.0  1.0   2.5"
      ]
     },
     "execution_count": 2,
     "metadata": {},
     "output_type": "execute_result"
    }
   ],
   "source": [
    "data = {'one':[1.0,2.0,3.0,4.0],'two':[4.0,3.0,2.0,1.0]}\n",
    "import pandas as pd\n",
    "df = pd.DataFrame(data,index=['a','b','c','d'])\n",
    "df[\"mean\"]=df.mean(axis = 1)\n",
    "df"
   ]
  },
  {
   "cell_type": "code",
   "execution_count": null,
   "id": "e6cd2c01",
   "metadata": {},
   "outputs": [],
   "source": []
  }
 ],
 "metadata": {
  "kernelspec": {
   "display_name": "Python 3 (ipykernel)",
   "language": "python",
   "name": "python3"
  },
  "language_info": {
   "codemirror_mode": {
    "name": "ipython",
    "version": 3
   },
   "file_extension": ".py",
   "mimetype": "text/x-python",
   "name": "python",
   "nbconvert_exporter": "python",
   "pygments_lexer": "ipython3",
   "version": "3.9.12"
  }
 },
 "nbformat": 4,
 "nbformat_minor": 5
}
